{
 "cells": [
  {
   "cell_type": "code",
   "execution_count": 16,
   "metadata": {},
   "outputs": [],
   "source": [
    "documents = [\n",
    "  \"Llamas are members of the camelid family meaning they're pretty closely related to vicuñas and camels\",\n",
    "  \"Llamas were first domesticated and used as pack animals 4,000 to 5,000 years ago in the Peruvian highlands\",\n",
    "  \"Llamas can grow as much as 6 feet tall though the average llama between 5 feet 6 inches and 5 feet 9 inches tall\",\n",
    "  \"Llamas weigh between 280 and 450 pounds and can carry 25 to 30 percent of their body weight\",\n",
    "  \"Llamas are vegetarians and have very efficient digestive systems\",\n",
    "  \"Llamas live to be about 20 years old, though some only live for 15 years and others live to be 30 years old\",\n",
    "]"
   ]
  },
  {
   "cell_type": "code",
   "execution_count": 17,
   "metadata": {},
   "outputs": [],
   "source": [
    "import weaviate\n",
    "\n",
    "client = weaviate.connect_to_local()"
   ]
  },
  {
   "cell_type": "code",
   "execution_count": 21,
   "metadata": {},
   "outputs": [],
   "source": [
    "import weaviate.classes as wvc\n",
    "from weaviate.classes.config import Property, DataType\n",
    "import ollama\n",
    "\n",
    "# Create a new data collection\n",
    "collection = client.collections.create(\n",
    "    name = \"docs2\", # Name of the data collection\n",
    "    properties=[\n",
    "        Property(name=\"text\", data_type=DataType.TEXT), # Name and data type of the property\n",
    "    ],\n",
    ")"
   ]
  },
  {
   "cell_type": "code",
   "execution_count": 22,
   "metadata": {},
   "outputs": [],
   "source": [
    "# Store each document in a vector embedding database\n",
    "with collection.batch.dynamic() as batch:\n",
    "  for i, d in enumerate(documents):\n",
    "    # Generate embeddings\n",
    "    response = ollama.embeddings(model = \"all-minilm\",\n",
    "                                 prompt = d)\n",
    "\n",
    "    # Add data object with text and embedding\n",
    "    batch.add_object(\n",
    "        properties = {\"text\" : d},\n",
    "        vector = response[\"embedding\"],\n",
    "    )"
   ]
  },
  {
   "cell_type": "code",
   "execution_count": 23,
   "metadata": {},
   "outputs": [
    {
     "name": "stdout",
     "output_type": "stream",
     "text": [
      "Llamas are members of the camelid family meaning they're pretty closely related to vicuñas and camels\n"
     ]
    }
   ],
   "source": [
    "# An example prompt\n",
    "prompt = \"What animals are llamas related to?\"\n",
    "\n",
    "# Generate an embedding for the prompt and retrieve the most relevant doc\n",
    "response = ollama.embeddings(\n",
    "  model = \"all-minilm\",\n",
    "  prompt = prompt,\n",
    ")\n",
    "\n",
    "results = collection.query.near_vector(near_vector = response[\"embedding\"],\n",
    "                                       limit = 1)\n",
    "\n",
    "data = results.objects[0].properties['text']\n",
    "print(data)"
   ]
  },
  {
   "cell_type": "code",
   "execution_count": 24,
   "metadata": {},
   "outputs": [],
   "source": [
    "prompt_template = f\"Using this data: {data}. Respond to this prompt: {prompt}\""
   ]
  },
  {
   "cell_type": "code",
   "execution_count": 25,
   "metadata": {},
   "outputs": [
    {
     "name": "stdout",
     "output_type": "stream",
     "text": [
      "According to the provided information, llamas are related to:\n",
      "\n",
      "1. Vicuñas\n",
      "2. Camels\n"
     ]
    }
   ],
   "source": [
    "# Generate a response combining the prompt and data we retrieved in step 2\n",
    "output = ollama.generate(\n",
    "  model = \"llama3.1:8b\",\n",
    "  prompt = prompt_template,\n",
    ")\n",
    "\n",
    "print(output['response'])"
   ]
  },
  {
   "cell_type": "code",
   "execution_count": null,
   "metadata": {},
   "outputs": [],
   "source": []
  }
 ],
 "metadata": {
  "kernelspec": {
   "display_name": "Python 3",
   "language": "python",
   "name": "python3"
  },
  "language_info": {
   "codemirror_mode": {
    "name": "ipython",
    "version": 3
   },
   "file_extension": ".py",
   "mimetype": "text/x-python",
   "name": "python",
   "nbconvert_exporter": "python",
   "pygments_lexer": "ipython3",
   "version": "3.10.12"
  }
 },
 "nbformat": 4,
 "nbformat_minor": 2
}

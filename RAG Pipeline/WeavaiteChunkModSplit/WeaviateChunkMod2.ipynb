{
 "cells": [
  {
   "cell_type": "code",
   "execution_count": 3,
   "metadata": {},
   "outputs": [],
   "source": [
    "import weaviate\n",
    "import json\n",
    "\n",
    "# Connect to Weaviate\n",
    "client = weaviate.Client(\"http://localhost:8080\")  # Adjust the URL if necessary\n",
    "\n",
    "# Check if the class exists and delete it\n",
    "collection_name = \"Docs100\"\n",
    "if client.schema.exists(collection_name):\n",
    "    client.schema.delete_class(collection_name)\n",
    "\n",
    "# Define the class schema\n",
    "class_obj = {\n",
    "    \"class\": collection_name,\n",
    "    \"properties\": [\n",
    "        {\n",
    "            \"name\": \"text\",\n",
    "            \"dataType\": [\"text\"],\n",
    "        },\n",
    "    ],\n",
    "}\n",
    "\n",
    "# Create the class in the schema\n",
    "client.schema.create_class(class_obj)\n",
    "\n",
    "# Load embeddings from the JSON file\n",
    "with open('embeddings.json', 'r') as f:\n",
    "    embeddings_data = json.load(f)\n",
    "\n",
    "# Store each embedding in Weaviate\n",
    "with client.batch as batch:\n",
    "    for data in embeddings_data:\n",
    "        batch.add_data_object(\n",
    "            data_object={\"text\": data[\"text\"]},\n",
    "            class_name=collection_name,\n",
    "            vector=data[\"embedding\"],\n",
    "        )\n",
    "\n",
    "# print(\"Embeddings loaded into Weaviate\")  # Uncomment to see confirmation\n"
   ]
  },
  {
   "cell_type": "code",
   "execution_count": null,
   "metadata": {},
   "outputs": [],
   "source": []
  }
 ],
 "metadata": {
  "kernelspec": {
   "display_name": "Python 3",
   "language": "python",
   "name": "python3"
  },
  "language_info": {
   "codemirror_mode": {
    "name": "ipython",
    "version": 3
   },
   "file_extension": ".py",
   "mimetype": "text/x-python",
   "name": "python",
   "nbconvert_exporter": "python",
   "pygments_lexer": "ipython3",
   "version": "3.10.12"
  }
 },
 "nbformat": 4,
 "nbformat_minor": 2
}

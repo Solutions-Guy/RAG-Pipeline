{
 "cells": [
  {
   "cell_type": "code",
   "execution_count": 17,
   "metadata": {},
   "outputs": [],
   "source": [
    "import weaviate\n",
    "import ollama\n",
    "\n",
    "# Connect to Weaviate\n",
    "client = weaviate.Client(\"http://localhost:8080\")\n",
    "collection_name = \"Docs100\"\n"
   ]
  },
  {
   "cell_type": "code",
   "execution_count": 18,
   "metadata": {},
   "outputs": [
    {
     "name": "stdout",
     "output_type": "stream",
     "text": [
      "I can’t answer that question as it's unrelated to the provided text. However, I'd be happy to help with any other questions or provide information on the topic of the text, which is about a person named Burt Lancaster. Alternatively, if you're looking for information on Abraham Lincoln, I can try to assist you with that!\n"
     ]
    }
   ],
   "source": [
    "# An example prompt\n",
    "prompt = \"Who is Abraham Lincoln?\"\n",
    "\n",
    "# Generate an embedding for the prompt and retrieve the most relevant doc\n",
    "response = ollama.embeddings(\n",
    "    model=\"all-minilm\",\n",
    "    prompt=prompt,\n",
    ")\n",
    "\n",
    "# Perform the query and specify the properties to return\n",
    "results = client.query.get(collection_name, [\"text\"]).with_near_vector({\"vector\": response[\"embedding\"]}).with_limit(1).do()\n",
    "\n",
    "# Extract the text property from the results\n",
    "data = results['data']['Get'][collection_name][0]['text']\n",
    "# print(data)\n",
    "prompt_template = f\"Using this data: {data}. Respond to this prompt: {prompt}\"\n",
    "\n",
    "# Generate a response combining the prompt and data we retrieved in step 2\n",
    "output = ollama.generate(\n",
    "    model=\"llama3.1:8b\",\n",
    "    prompt=prompt_template,\n",
    ")\n",
    "\n",
    "print(output['response'])"
   ]
  },
  {
   "cell_type": "code",
   "execution_count": null,
   "metadata": {},
   "outputs": [],
   "source": []
  }
 ],
 "metadata": {
  "kernelspec": {
   "display_name": "Python 3",
   "language": "python",
   "name": "python3"
  },
  "language_info": {
   "codemirror_mode": {
    "name": "ipython",
    "version": 3
   },
   "file_extension": ".py",
   "mimetype": "text/x-python",
   "name": "python",
   "nbconvert_exporter": "python",
   "pygments_lexer": "ipython3",
   "version": "3.10.12"
  }
 },
 "nbformat": 4,
 "nbformat_minor": 2
}

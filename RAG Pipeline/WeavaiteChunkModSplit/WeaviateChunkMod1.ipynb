{
 "cells": [
  {
   "cell_type": "code",
   "execution_count": 2,
   "metadata": {},
   "outputs": [],
   "source": [
    "import os\n",
    "import ollama\n",
    "import json\n",
    "\n",
    "# Function to split text into chunks\n",
    "def split_into_chunks(text, max_length=512):\n",
    "    sentences = text.split('. ')\n",
    "    chunks = []\n",
    "    current_chunk = []\n",
    "    current_length = 0\n",
    "\n",
    "    for sentence in sentences:\n",
    "        sentence_length = len(sentence.split())\n",
    "        if current_length + sentence_length > max_length:\n",
    "            chunks.append('. '.join(current_chunk))\n",
    "            current_chunk = [sentence]\n",
    "            current_length = sentence_length\n",
    "        else:\n",
    "            current_chunk.append(sentence)\n",
    "            current_length += sentence_length\n",
    "\n",
    "    if current_chunk:\n",
    "        chunks.append('. '.join(current_chunk))\n",
    "\n",
    "    return chunks\n",
    "\n",
    "# Directory containing the text files\n",
    "directory = '/home/vishnu/Desktop/wiki/process_chunks'\n",
    "\n",
    "# List to store the embeddings\n",
    "embeddings_data = []\n",
    "\n",
    "# Iterate through each file in the directory\n",
    "for filename in os.listdir(directory):\n",
    "    if filename.endswith(\".txt\"):\n",
    "        with open(os.path.join(directory, filename), 'r') as file:\n",
    "            # Read the content of the file\n",
    "            content = file.read()\n",
    "            # Split document into chunks\n",
    "            chunks = split_into_chunks(content)\n",
    "\n",
    "            for chunk in chunks:\n",
    "                # Generate embeddings for each chunk\n",
    "                response = ollama.embeddings(model=\"all-minilm\", prompt=chunk)\n",
    "                embeddings_data.append({\n",
    "                    \"text\": chunk,\n",
    "                    \"embedding\": response[\"embedding\"]\n",
    "                })\n",
    "\n",
    "# Save embeddings to a JSON file\n",
    "with open('embeddings.json', 'w') as f:\n",
    "    json.dump(embeddings_data, f)\n",
    "\n",
    "# print(\"Embeddings saved to embeddings.json\")  # Uncomment to see confirmation\n"
   ]
  },
  {
   "cell_type": "code",
   "execution_count": null,
   "metadata": {},
   "outputs": [],
   "source": []
  }
 ],
 "metadata": {
  "kernelspec": {
   "display_name": "Python 3",
   "language": "python",
   "name": "python3"
  },
  "language_info": {
   "codemirror_mode": {
    "name": "ipython",
    "version": 3
   },
   "file_extension": ".py",
   "mimetype": "text/x-python",
   "name": "python",
   "nbconvert_exporter": "python",
   "pygments_lexer": "ipython3",
   "version": "3.10.12"
  }
 },
 "nbformat": 4,
 "nbformat_minor": 2
}
